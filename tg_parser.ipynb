{
  "nbformat": 4,
  "nbformat_minor": 0,
  "metadata": {
    "colab": {
      "provenance": []
    },
    "kernelspec": {
      "name": "python3",
      "display_name": "Python 3"
    },
    "language_info": {
      "name": "python"
    }
  },
  "cells": [
    {
      "cell_type": "markdown",
      "source": [
        "Простенький парсер для выгрузки информации о пользователях тг, через поиск постов в группах (для того чтобы выгрузить данные нужно подписаться на группу)."
      ],
      "metadata": {
        "id": "eeIKwAVp3-H4"
      }
    },
    {
      "cell_type": "code",
      "source": [
        "from telethon import TelegramClient, events\n",
        "#from config import DESTINATION, API_ID, API_HASH, SESSION, CHATS, KEY_WORDS\n",
        "\n",
        "#client = TelegramClient(SESSION, API_ID, API_HASH)\n",
        "name = 'Parser'\n",
        "api_id = 'h'\n",
        "api_hash = 'h'\n",
        "CHATS = ('https://t.me/travelyut_turizm')  # кортеж из телеграм чатов, которые мы будем парсить\n",
        "KEY_WORDS = ('Байкал') # ключевые слова которые должны быть в сообщении\n",
        "\n",
        "with TelegramClient(name, api_id, api_hash) as client:\n",
        "    for message in client.iter_messages(CHATS, search=KEY_WORDS):\n",
        "        print(message.sender_id, ':', message.text)"
      ],
      "metadata": {
        "id": "kORd6yWE390f"
      },
      "execution_count": null,
      "outputs": []
    }
  ]
}